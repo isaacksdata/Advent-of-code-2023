{
 "cells": [
  {
   "cell_type": "markdown",
   "id": "0193218e-162e-430f-953b-bc6309732082",
   "metadata": {},
   "source": [
    "# 1) Load extensions"
   ]
  },
  {
   "cell_type": "code",
   "execution_count": null,
   "id": "98ff055d-0ee2-40f0-9d47-697fec744840",
   "metadata": {},
   "outputs": [],
   "source": [
    "%load_ext autoreload\n",
    "%autoreload 2\n",
    "%load_ext jupyter_black"
   ]
  },
  {
   "cell_type": "markdown",
   "id": "10c8bfe0-173f-43b1-9e01-35780b0a0f36",
   "metadata": {},
   "source": [
    "# 2) Imports"
   ]
  },
  {
   "cell_type": "code",
   "execution_count": null,
   "id": "38ebdfe3-807a-45b0-9968-e5611152eead",
   "metadata": {},
   "outputs": [],
   "source": [
    "from utilities import get_puzzle, submit_answer, save_sample_data, format_input_data"
   ]
  },
  {
   "cell_type": "code",
   "execution_count": null,
   "id": "5c476bec-4598-4771-a7ca-cf327b5cef9c",
   "metadata": {},
   "outputs": [],
   "source": [
    "from day_1 import solve"
   ]
  },
  {
   "cell_type": "markdown",
   "id": "0c3ae357-b144-43a3-8480-5af9fb5547cd",
   "metadata": {},
   "source": [
    "# 3) Set puzzle configs"
   ]
  },
  {
   "cell_type": "code",
   "execution_count": null,
   "id": "d7ea2a07-54e7-48b2-a3e7-c5040c57f1b9",
   "metadata": {},
   "outputs": [],
   "source": [
    "year = 2023\n",
    "day = 1\n",
    "part = \"b\""
   ]
  },
  {
   "cell_type": "markdown",
   "id": "d5820e28-99bf-4899-8dc8-f5ec9686deec",
   "metadata": {},
   "source": [
    "# 4) Copy some test data here"
   ]
  },
  {
   "cell_type": "code",
   "execution_count": null,
   "id": "e02f7830-59c4-46bf-bfad-7746e7b94cd1",
   "metadata": {},
   "outputs": [],
   "source": [
    "test_data = [\n",
    "    \"two1nine\",\n",
    "    \"eightwothree\",\n",
    "    \"abcone2threexyz\",\n",
    "    \"xtwone3four\",\n",
    "    \"4nineeightseven2\",\n",
    "    \"zoneight234\",\n",
    "    \"7pqrstsixteen\",\n",
    "]"
   ]
  },
  {
   "cell_type": "code",
   "execution_count": null,
   "id": "a1145577-c0ea-4ac6-9a2f-aa9d3ad028c9",
   "metadata": {},
   "outputs": [],
   "source": [
    "solve(test_data, \"b\")"
   ]
  },
  {
   "cell_type": "code",
   "execution_count": null,
   "id": "bf8a034f-c729-4a85-9fef-b4612f1bfe4d",
   "metadata": {},
   "outputs": [],
   "source": [
    "save_sample_data(test_data, f\"./data/day_{day}_{part}_sample.txt\")"
   ]
  },
  {
   "cell_type": "markdown",
   "id": "104ccca5-d83c-4b88-82a9-682d84081c19",
   "metadata": {},
   "source": [
    "# 5) Get the puzzle data here"
   ]
  },
  {
   "cell_type": "code",
   "execution_count": null,
   "id": "b9d62352-7278-4736-9283-63cae4aabc90",
   "metadata": {},
   "outputs": [],
   "source": [
    "data = get_puzzle(year=year, day=day)"
   ]
  },
  {
   "cell_type": "code",
   "execution_count": null,
   "id": "344ce15b-9bf3-465d-a6c4-0731e00dd366",
   "metadata": {},
   "outputs": [],
   "source": [
    "data = format_input_data(data)"
   ]
  },
  {
   "cell_type": "code",
   "execution_count": null,
   "id": "0dced2d4-0edb-4a47-b340-df9b66b0696d",
   "metadata": {},
   "outputs": [],
   "source": [
    "solution = solve(data, \"b\")\n",
    "solution"
   ]
  },
  {
   "cell_type": "markdown",
   "id": "aebabe67-f3d3-4186-8942-4daef9ed0892",
   "metadata": {},
   "source": [
    "# 6) Submit answer"
   ]
  },
  {
   "cell_type": "code",
   "execution_count": null,
   "id": "c04c7a48-82df-4878-b6e2-de9053edff45",
   "metadata": {},
   "outputs": [],
   "source": [
    "submit_answer(year=year, day=day, part=\"b\", answer=solution)"
   ]
  },
  {
   "cell_type": "code",
   "execution_count": null,
   "id": "2f413319-1a72-41b1-9a15-3530a10d9ef1",
   "metadata": {},
   "outputs": [],
   "source": []
  }
 ],
 "metadata": {
  "kernelspec": {
   "display_name": "Python 3 (ipykernel)",
   "language": "python",
   "name": "python3"
  },
  "language_info": {
   "codemirror_mode": {
    "name": "ipython",
    "version": 3
   },
   "file_extension": ".py",
   "mimetype": "text/x-python",
   "name": "python",
   "nbconvert_exporter": "python",
   "pygments_lexer": "ipython3",
   "version": "3.11.5"
  }
 },
 "nbformat": 4,
 "nbformat_minor": 5
}
