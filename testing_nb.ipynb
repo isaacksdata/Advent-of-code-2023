{
 "cells": [
  {
   "cell_type": "markdown",
   "id": "0193218e-162e-430f-953b-bc6309732082",
   "metadata": {},
   "source": [
    "# 1) Load extensions"
   ]
  },
  {
   "cell_type": "code",
   "execution_count": null,
   "id": "98ff055d-0ee2-40f0-9d47-697fec744840",
   "metadata": {},
   "outputs": [],
   "source": [
    "%load_ext autoreload\n",
    "%autoreload 2\n",
    "%load_ext jupyter_black"
   ]
  },
  {
   "cell_type": "markdown",
   "id": "10c8bfe0-173f-43b1-9e01-35780b0a0f36",
   "metadata": {},
   "source": [
    "# 2) Imports"
   ]
  },
  {
   "cell_type": "code",
   "execution_count": null,
   "id": "4c8418f2-f874-4e06-8f29-7365c9f4551f",
   "metadata": {},
   "outputs": [],
   "source": [
    "import time\n",
    "import json"
   ]
  },
  {
   "cell_type": "code",
   "execution_count": null,
   "id": "10b82e51-8722-4e5e-80a4-6ebcf9cfd09c",
   "metadata": {},
   "outputs": [],
   "source": [
    "import numpy as np\n",
    "import matplotlib.pyplot as plt"
   ]
  },
  {
   "cell_type": "code",
   "execution_count": null,
   "id": "38ebdfe3-807a-45b0-9968-e5611152eead",
   "metadata": {},
   "outputs": [],
   "source": [
    "from solutions.utilities import (\n",
    "    get_puzzle,\n",
    "    submit_answer,\n",
    "    save_sample_data,\n",
    "    format_input_data,\n",
    "    run_and_measure,\n",
    ")"
   ]
  },
  {
   "cell_type": "code",
   "execution_count": null,
   "id": "5c476bec-4598-4771-a7ca-cf327b5cef9c",
   "metadata": {},
   "outputs": [],
   "source": [
    "from solutions.day_14 import solve"
   ]
  },
  {
   "cell_type": "markdown",
   "id": "0c3ae357-b144-43a3-8480-5af9fb5547cd",
   "metadata": {},
   "source": [
    "# 3) Set puzzle configs"
   ]
  },
  {
   "cell_type": "code",
   "execution_count": null,
   "id": "d7ea2a07-54e7-48b2-a3e7-c5040c57f1b9",
   "metadata": {},
   "outputs": [],
   "source": [
    "year = 2023\n",
    "day = 14\n",
    "part = \"a\""
   ]
  },
  {
   "cell_type": "markdown",
   "id": "d5820e28-99bf-4899-8dc8-f5ec9686deec",
   "metadata": {},
   "source": [
    "# 4) Copy some test data here"
   ]
  },
  {
   "cell_type": "code",
   "execution_count": null,
   "id": "e02f7830-59c4-46bf-bfad-7746e7b94cd1",
   "metadata": {},
   "outputs": [],
   "source": [
    "test_data = [\n",
    "    \"O....#....\",\n",
    "    \"O.OO#....#\",\n",
    "    \".....##...\",\n",
    "    \"OO.#O....O\",\n",
    "    \".O.....O#.\",\n",
    "    \"O.#..O.#.#\",\n",
    "    \"..O..#O..O\",\n",
    "    \".......O..\",\n",
    "    \"#....###..\",\n",
    "    \"#OO..#....\",\n",
    "]\n",
    "\n",
    "expected = [\n",
    "    \"OOOO.#.O..\",\n",
    "    \"OO..#....#\",\n",
    "    \"OO..O##..O\",\n",
    "    \"O..#.OO...\",\n",
    "    \"........#.\",\n",
    "    \"..#....#.#\",\n",
    "    \"..O..#.O.O\",\n",
    "    \"..O.......\",\n",
    "    \"#....###..\",\n",
    "    \"#....#....\",\n",
    "]"
   ]
  },
  {
   "cell_type": "code",
   "execution_count": null,
   "id": "a1145577-c0ea-4ac6-9a2f-aa9d3ad028c9",
   "metadata": {},
   "outputs": [],
   "source": [
    "solve(test_data, part)"
   ]
  },
  {
   "cell_type": "code",
   "execution_count": null,
   "id": "bf8a034f-c729-4a85-9fef-b4612f1bfe4d",
   "metadata": {},
   "outputs": [],
   "source": [
    "save_sample_data(test_data, f\"./data/day_{day}_{part}_sample.txt\")"
   ]
  },
  {
   "cell_type": "markdown",
   "id": "104ccca5-d83c-4b88-82a9-682d84081c19",
   "metadata": {},
   "source": [
    "# 5) Get the puzzle data here"
   ]
  },
  {
   "cell_type": "code",
   "execution_count": null,
   "id": "b9d62352-7278-4736-9283-63cae4aabc90",
   "metadata": {},
   "outputs": [],
   "source": [
    "data = get_puzzle(year=year, day=day)"
   ]
  },
  {
   "cell_type": "code",
   "execution_count": null,
   "id": "344ce15b-9bf3-465d-a6c4-0731e00dd366",
   "metadata": {},
   "outputs": [],
   "source": [
    "data = format_input_data(data)"
   ]
  },
  {
   "cell_type": "code",
   "execution_count": null,
   "id": "2a8fcb56-6063-4a16-9ee2-2a312d0c0503",
   "metadata": {},
   "outputs": [],
   "source": [
    "%%time\n",
    "solution = solve(data, part)\n",
    "solution"
   ]
  },
  {
   "cell_type": "markdown",
   "id": "aebabe67-f3d3-4186-8942-4daef9ed0892",
   "metadata": {},
   "source": [
    "# 6) Submit answer"
   ]
  },
  {
   "cell_type": "code",
   "execution_count": null,
   "id": "c04c7a48-82df-4878-b6e2-de9053edff45",
   "metadata": {},
   "outputs": [],
   "source": [
    "submit_answer(year=year, day=day, part=part, answer=solution)"
   ]
  },
  {
   "cell_type": "code",
   "execution_count": null,
   "id": "e2463cec-5ce7-489f-a0fd-ee19e4316835",
   "metadata": {},
   "outputs": [],
   "source": [
    "with open(\"answers.json\", \"r\") as f:\n",
    "    answers = json.load(f)\n",
    "\n",
    "if str(day) not in answers:\n",
    "    answers[str(day)] = {}\n",
    "\n",
    "answers[str(day)][part] = int(solution)"
   ]
  },
  {
   "cell_type": "code",
   "execution_count": null,
   "id": "4a1ceb4b-3d66-4237-8c07-69b05c89deb5",
   "metadata": {},
   "outputs": [],
   "source": [
    "with open(\"answers.json\", \"w\") as f:\n",
    "    json.dump(answers, f)"
   ]
  },
  {
   "cell_type": "markdown",
   "id": "7d801009-3c95-4063-b4cc-c3448e4e1d8d",
   "metadata": {},
   "source": [
    "# 7) Check runtimes of all solutions "
   ]
  },
  {
   "cell_type": "code",
   "execution_count": null,
   "id": "2f413319-1a72-41b1-9a15-3530a10d9ef1",
   "metadata": {},
   "outputs": [],
   "source": [
    "from solutions.day_1 import solve as d1\n",
    "from solutions.day_2 import solve as d2\n",
    "from solutions.day_3 import solve as d3\n",
    "from solutions.day_4 import solve as d4\n",
    "from solutions.day_5 import solve as d5\n",
    "from solutions.day_6 import solve as d6\n",
    "from solutions.day_7 import solve as d7\n",
    "from solutions.day_8 import solve as d8\n",
    "from solutions.day_9 import solve as d9\n",
    "from solutions.day_10 import solve as d10\n",
    "from solutions.day_11 import solve as d11\n",
    "from solutions.day_12 import solve as d12\n",
    "from solutions.day_13 import solve as d13\n",
    "from solutions.day_14 import solve as d14"
   ]
  },
  {
   "cell_type": "code",
   "execution_count": null,
   "id": "eea9bf94-d999-4e1f-a4aa-810ac268b857",
   "metadata": {},
   "outputs": [],
   "source": [
    "funcs = {\n",
    "    1: d1,\n",
    "    2: d2,\n",
    "    3: d3,\n",
    "    4: d4,\n",
    "    5: d5,\n",
    "    6: d6,\n",
    "    7: d7,\n",
    "    8: d8,\n",
    "    9: d9,\n",
    "    10: d10,\n",
    "    11: d11,\n",
    "    12: d12,\n",
    "    13: d13,\n",
    "    14: d14,\n",
    "}"
   ]
  },
  {
   "cell_type": "code",
   "execution_count": null,
   "id": "bd021414-284b-4a6e-a3dc-2aeed4e1c840",
   "metadata": {},
   "outputs": [],
   "source": [
    "with open(\"answers.json\", \"r\") as f:\n",
    "    answers = json.load(f)\n",
    "answers"
   ]
  },
  {
   "cell_type": "code",
   "execution_count": null,
   "id": "1e8f75af-147a-4565-9203-c5edea866c7d",
   "metadata": {},
   "outputs": [],
   "source": [
    "with open(\"profiling.json\", \"r\") as f:\n",
    "    times = json.load(f)"
   ]
  },
  {
   "cell_type": "code",
   "execution_count": null,
   "id": "600bd015-77dc-429a-bfac-eb56c5d28bbb",
   "metadata": {},
   "outputs": [],
   "source": [
    "for d in funcs.keys():\n",
    "    data = get_puzzle(year=year, day=d)\n",
    "    data = format_input_data(data)\n",
    "    f = funcs[d]\n",
    "    for part in [\"a\", \"b\"]:\n",
    "        if part in answers[str(d)]:\n",
    "            if d == 2:\n",
    "                solution = f(\n",
    "                    data, part=part, colour_limits=dict(red=12, green=13, blue=14)\n",
    "                )\n",
    "                args = [data, dict(red=12, green=13, blue=14), part]\n",
    "            else:\n",
    "                solution = f(data, part)\n",
    "                args = [data, part]\n",
    "            if not solution == answers[str(d)][part]:\n",
    "                print(f\"FAILED : day {d} part {part}\")\n",
    "\n",
    "            if str(d) not in times:\n",
    "                times[str(d)] = {}\n",
    "                times[str(d)][part] = None\n",
    "            ms = run_and_measure(f, args, 5) * 1000\n",
    "            print(f\"Day {d} part {part} = {round(ms, 4)}ms\")\n",
    "            if part not in times[str(d)] or times[str(d)][part] is None:\n",
    "                times[str(d)][part] = ms\n",
    "            if ms < times[str(d)][part]:\n",
    "                print(f\"New speed record for {d} {part}!\")\n",
    "                times[str(d)][part] = ms\n",
    "\n",
    "with open(\"profiling.json\", \"w\") as f:\n",
    "    json.dump(times, f)"
   ]
  },
  {
   "cell_type": "code",
   "execution_count": null,
   "id": "8ab63e63-4774-47ee-8e3f-8f462fed1dd6",
   "metadata": {},
   "outputs": [],
   "source": []
  }
 ],
 "metadata": {
  "kernelspec": {
   "display_name": "Python 3 (ipykernel)",
   "language": "python",
   "name": "python3"
  },
  "language_info": {
   "codemirror_mode": {
    "name": "ipython",
    "version": 3
   },
   "file_extension": ".py",
   "mimetype": "text/x-python",
   "name": "python",
   "nbconvert_exporter": "python",
   "pygments_lexer": "ipython3",
   "version": "3.11.5"
  }
 },
 "nbformat": 4,
 "nbformat_minor": 5
}
